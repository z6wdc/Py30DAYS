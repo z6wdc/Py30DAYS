{
 "cells": [
  {
   "cell_type": "markdown",
   "metadata": {
    "colab_type": "text",
    "id": "P6xk2_jLsvFF"
   },
   "source": [
    "# [作業目標]\n",
    "\n",
    "1. 有一個 List 包含 10 個元素：[1, 2, 3, 4, 5, 6, 7, 8, 9, 0]，如果調整成偶數放前面，奇數放後面的樣子？結果會像是 [2, 4, 6, 8, 0, 1, 3, 5, 7, 9]\n",
    "\n",
    "2. 在數學中，用 n! 來表示階乘，例如，4! =1×2×3×4 =24。請分別 (1) 用 for 迴圈 (2) 用 while 迴圈完成一個程式，讓使用者輸入 n，印出 n!\n",
    "\n",
    "\n",
    "\n"
   ]
  },
  {
   "cell_type": "markdown",
   "metadata": {
    "colab_type": "text",
    "id": "uXGll28asvFS"
   },
   "source": [
    "# 作業 "
   ]
  },
  {
   "cell_type": "markdown",
   "metadata": {},
   "source": [
    "### 1. 有一個 List 包含 10 個元素：[1, 2, 3, 4, 5, 6, 7, 8, 9, 0]，如果調整成偶數放前面，奇數放後面的樣子？結果會像是 [2, 4, 6, 8, 0, 1, 3, 5, 7, 9]\n",
    "\n",
    "\n",
    "\n",
    "\n"
   ]
  },
  {
   "cell_type": "code",
   "execution_count": 11,
   "metadata": {
    "colab": {},
    "colab_type": "code",
    "id": "5QrYoyNWsvFS"
   },
   "outputs": [
    {
     "data": {
      "text/plain": [
       "[2, 4, 6, 8, 0, 1, 3, 5, 7, 9]"
      ]
     },
     "execution_count": 11,
     "metadata": {},
     "output_type": "execute_result"
    }
   ],
   "source": [
    "L = [1, 2, 3, 4, 5, 6, 7, 8, 9, 0]\n",
    "\n",
    "evens = []\n",
    "odds = []\n",
    "\n",
    "for e in L:\n",
    "    if e % 2 == 0:\n",
    "        evens.append(e)\n",
    "    else:\n",
    "        odds.append(e)\n",
    "        \n",
    "L = evens + odds\n",
    "L"
   ]
  },
  {
   "cell_type": "markdown",
   "metadata": {},
   "source": [
    "### 2. 在數學中，用 n! 來表示階乘，例如，4! =1×2×3×4 =24。請分別 (1) 用 for 迴圈 (2) 用 while 迴圈完成一個程式，讓使用者輸入 n，印出 n!\n",
    "\n"
   ]
  },
  {
   "cell_type": "code",
   "execution_count": 12,
   "metadata": {
    "colab": {},
    "colab_type": "code",
    "id": "e1gVI0tvsvFY"
   },
   "outputs": [],
   "source": [
    "def fac_for(n):\n",
    "    value = 1\n",
    "    for i in range(1, n+1):\n",
    "        value *= i\n",
    "    return value"
   ]
  },
  {
   "cell_type": "code",
   "execution_count": 13,
   "metadata": {},
   "outputs": [
    {
     "data": {
      "text/plain": [
       "24"
      ]
     },
     "execution_count": 13,
     "metadata": {},
     "output_type": "execute_result"
    }
   ],
   "source": [
    "fac_for(4)"
   ]
  },
  {
   "cell_type": "code",
   "execution_count": 14,
   "metadata": {},
   "outputs": [],
   "source": [
    "def fac_while(n):\n",
    "    value = 1\n",
    "    i = 1\n",
    "    while i < n + 1:\n",
    "        value *= i\n",
    "        i += 1\n",
    "    \n",
    "    return value"
   ]
  },
  {
   "cell_type": "code",
   "execution_count": 15,
   "metadata": {},
   "outputs": [
    {
     "data": {
      "text/plain": [
       "24"
      ]
     },
     "execution_count": 15,
     "metadata": {},
     "output_type": "execute_result"
    }
   ],
   "source": [
    "fac_while(4)"
   ]
  }
 ],
 "metadata": {
  "colab": {
   "name": "Day_023_HW.ipynb",
   "provenance": []
  },
  "kernelspec": {
   "display_name": "Python 3 (ipykernel)",
   "language": "python",
   "name": "python3"
  },
  "language_info": {
   "codemirror_mode": {
    "name": "ipython",
    "version": 3
   },
   "file_extension": ".py",
   "mimetype": "text/x-python",
   "name": "python",
   "nbconvert_exporter": "python",
   "pygments_lexer": "ipython3",
   "version": "3.9.5"
  }
 },
 "nbformat": 4,
 "nbformat_minor": 4
}
