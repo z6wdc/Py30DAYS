{
 "cells": [
  {
   "cell_type": "markdown",
   "metadata": {
    "colab_type": "text",
    "id": "P6xk2_jLsvFF"
   },
   "source": [
    "# [作業目標]\n",
    "\n",
    "1. 請設定三個變數值「name」、「birth」、「job」，分別指定成「名字」、「出生年份」及「工作」，並且印出成下列輸出：\n",
    "\n",
    "```\n",
    "Hello World, 我的名字是 OOO\n",
    "我今年 OO 歲，目前的工作是 OOO\n",
    "學習 Python 的目標是： OOO。\n",
    "```\n",
    "\n",
    "2. 攝氏溫標是目前世界上最常用的溫標，而在美國則是使用華氏溫標為主，假設現在是攝氏 C 度，則華氏 F 度可以表示成 F=C*9/5+32。現在給你攝氏的溫度，請問你它是華氏幾度？\n",
    "\n",
    "    * 使用者需要定義 C 跟 F 兩個變數，分別代表華氏溫度和攝氏溫度\n",
    "    * 變數 C 由使用者輸入，變數 F 由程式計算產生\n",
    "\n",
    "\n",
    "\n"
   ]
  },
  {
   "cell_type": "markdown",
   "metadata": {
    "colab_type": "text",
    "id": "uXGll28asvFS"
   },
   "source": [
    "# 作業 "
   ]
  },
  {
   "cell_type": "markdown",
   "metadata": {},
   "source": [
    "### 1. 請設定三個變數值「name」、「birth」、「job」，分別指定成「名字」、「出生年份」及「工作」，並且印出成下列輸出：\n",
    "\n",
    "```\n",
    "Hello World, 我的名字是 OOO\n",
    "我今年 OO 歲，目前的工作是 OOO\n",
    "學習 Python 的目標是： OOO。\n",
    "```"
   ]
  },
  {
   "cell_type": "code",
   "execution_count": 3,
   "metadata": {
    "colab": {},
    "colab_type": "code",
    "id": "5QrYoyNWsvFS"
   },
   "outputs": [
    {
     "data": {
      "text/plain": [
       "'\\nYour Code\\n'"
      ]
     },
     "execution_count": 3,
     "metadata": {},
     "output_type": "execute_result"
    }
   ],
   "source": [
    "name = 'kaeru'\n",
    "birth = '2018'\n",
    "job = 'NEET'\n",
    "print(f\"\"\"\n",
    "Hello World, 我的名字是 {name}\n",
    "我今年 {} 歲\n",
    "\"\"\")"
   ]
  },
  {
   "cell_type": "markdown",
   "metadata": {},
   "source": [
    "### 2. 攝氏溫標是目前世界上最常用的溫標，而在美國則是使用華氏溫標為主，假設現在是攝氏 C 度，則華氏 F 度可以表示成 F=C*9/5+32。現在給你攝氏的溫度，請問你它是華氏幾度？\n",
    "\n",
    "* 使用者需要定義 C 跟 F 兩個變數，分別代表華氏溫度和攝氏溫度\n",
    "* 變數 C 由使用者輸入，變數 F 由程式計算產生\n"
   ]
  },
  {
   "cell_type": "code",
   "execution_count": 2,
   "metadata": {
    "colab": {},
    "colab_type": "code",
    "id": "e1gVI0tvsvFY"
   },
   "outputs": [
    {
     "data": {
      "text/plain": [
       "'\\nYour Code\\n'"
      ]
     },
     "execution_count": 2,
     "metadata": {},
     "output_type": "execute_result"
    }
   ],
   "source": [
    "'''\n",
    "Your Code\n",
    "'''"
   ]
  }
 ],
 "metadata": {
  "colab": {
   "name": "Day_023_HW.ipynb",
   "provenance": []
  },
  "kernelspec": {
   "display_name": "Python 3 (ipykernel)",
   "language": "python",
   "name": "python3"
  },
  "language_info": {
   "codemirror_mode": {
    "name": "ipython",
    "version": 3
   },
   "file_extension": ".py",
   "mimetype": "text/x-python",
   "name": "python",
   "nbconvert_exporter": "python",
   "pygments_lexer": "ipython3",
   "version": "3.9.5"
  }
 },
 "nbformat": 4,
 "nbformat_minor": 4
}
