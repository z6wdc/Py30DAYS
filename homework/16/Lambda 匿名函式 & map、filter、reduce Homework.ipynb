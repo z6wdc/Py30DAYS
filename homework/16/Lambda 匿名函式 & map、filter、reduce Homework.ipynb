{
 "cells": [
  {
   "cell_type": "markdown",
   "metadata": {
    "colab_type": "text",
    "id": "P6xk2_jLsvFF"
   },
   "source": [
    "# [作業目標]\n",
    "\n",
    "\n",
    "1. 請根據給定的列表依序完成下咧操作：\n",
    "\n",
    "    * 1. 利用 map 將原始資料四捨五入\n",
    "    * 2. 利用 filter 挑選出大於 30 的元素\n",
    "    * 3. 利用 reduce 計算總和\n",
    "\n",
    "\n",
    "2. 實作一個 map function，對一個 list 中的每個元素都做相同的操作\n",
    "\n",
    "    * Sample Input 1: L = [1,2,3,4,5,6], F = add1(n)\n",
    "    * Sample Output 1: [2,3,4,5,6,7]\n",
    "    * Sample Input 2: L = [2,3,4,5,6,7], F = isPrime(n)\n",
    "    * Sample Output 2: [True,True,False,True,False,True]\n",
    "\n"
   ]
  },
  {
   "cell_type": "markdown",
   "metadata": {
    "colab_type": "text",
    "id": "uXGll28asvFS"
   },
   "source": [
    "# 作業 "
   ]
  },
  {
   "cell_type": "markdown",
   "metadata": {},
   "source": [
    "### 1. 請根據給定的列表依序完成下咧操作：\n",
    "\n",
    "* 1. 利用 map 將原始資料四捨五入\n",
    "* 2. 利用 filter 挑選出大於 30 的元素\n",
    "* 3. 利用 reduce 計算總和"
   ]
  },
  {
   "cell_type": "code",
   "execution_count": 7,
   "metadata": {},
   "outputs": [
    {
     "name": "stdout",
     "output_type": "stream",
     "text": [
      "[7, 10, 4, 56, 9, 44]\n",
      "[56.2424, 44.00013]\n",
      "129.44497\n"
     ]
    }
   ],
   "source": [
    "from functools import reduce\n",
    "\n",
    "L = [6.6, 9.58, 4.009, 56.2424, 9.01344, 44.00013]\n",
    "\n",
    "print(list(map(lambda x: round(x), L)))\n",
    "print(list(filter(lambda x: x > 30, L)))\n",
    "print(reduce(lambda x, y: x + y, L))"
   ]
  },
  {
   "cell_type": "markdown",
   "metadata": {},
   "source": [
    "### 2. 實作一個 map function，對一個 list 中的每個元素都做相同的操作\n",
    "\n",
    "* Sample Input 1: L = [1,2,3,4,5,6], F = add1(n)\n",
    "* Sample Output 1:  [2,3,4,5,6,7]\n",
    "* Sample Input 2: L = [2,3,4,5,6,7], F = isPrime(n)\n",
    "* Sample Output 2: [True,True,False,True,False,True]"
   ]
  },
  {
   "cell_type": "code",
   "execution_count": 8,
   "metadata": {},
   "outputs": [
    {
     "data": {
      "text/plain": [
       "[1, 2, 3, 4, 5, 6]"
      ]
     },
     "execution_count": 8,
     "metadata": {},
     "output_type": "execute_result"
    }
   ],
   "source": [
    "def add1(n):\n",
    "    return n+1\n",
    "\n",
    "def isPrime(n):\n",
    "    for i in range(2, int(n**0.5)+1):\n",
    "        if n % i == 0:\n",
    "            return False\n",
    "    return True\n",
    "\n",
    "def map_function(func, target):\n",
    "    for x in target:\n",
    "        func(x)\n",
    "    return target\n",
    "        \n",
    "map_function(add1, [1,2,3,4,5,6])"
   ]
  }
 ],
 "metadata": {
  "colab": {
   "name": "Day_023_HW.ipynb",
   "provenance": []
  },
  "kernelspec": {
   "display_name": "Python 3 (ipykernel)",
   "language": "python",
   "name": "python3"
  },
  "language_info": {
   "codemirror_mode": {
    "name": "ipython",
    "version": 3
   },
   "file_extension": ".py",
   "mimetype": "text/x-python",
   "name": "python",
   "nbconvert_exporter": "python",
   "pygments_lexer": "ipython3",
   "version": "3.9.5"
  }
 },
 "nbformat": 4,
 "nbformat_minor": 4
}
