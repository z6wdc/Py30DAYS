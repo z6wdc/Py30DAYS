{
 "cells": [
  {
   "cell_type": "markdown",
   "metadata": {},
   "source": [
    "# 範例\n",
    "***"
   ]
  },
  {
   "cell_type": "markdown",
   "metadata": {},
   "source": [
    "# [教學目標]\n",
    "\n",
    "* 認識 Coroutine 與 Asynchronous 觀念\n",
    "* 使用 asyncio 實現定義與協程非同步函式\n",
    "* 理解 Coroutine 與 Multithread 的差異\n"
   ]
  },
  {
   "cell_type": "code",
   "execution_count": 1,
   "metadata": {},
   "outputs": [
    {
     "name": "stdout",
     "output_type": "stream",
     "text": [
      "Requirement already satisfied: nest_asyncio in /Users/ST20943/github.com/z6wdc/Python30Days/venv/lib/python3.9/site-packages (1.5.1)\n",
      "\u001b[33mWARNING: You are using pip version 21.2.4; however, version 21.3 is available.\n",
      "You should consider upgrading via the '/Users/ST20943/github.com/z6wdc/Python30Days/venv/bin/python3.9 -m pip install --upgrade pip' command.\u001b[0m\n"
     ]
    }
   ],
   "source": [
    "# 因為 Jupyter 預設不支援「asyncio」，需額外安裝「nest_asyncio」才可以\n",
    "\n",
    "!pip install nest_asyncio\n",
    "\n",
    "import nest_asyncio\n",
    "nest_asyncio.apply()"
   ]
  },
  {
   "cell_type": "code",
   "execution_count": 2,
   "metadata": {},
   "outputs": [
    {
     "name": "stdout",
     "output_type": "stream",
     "text": [
      "foo\n"
     ]
    }
   ],
   "source": [
    "# 利用 asyncio 實現 coroutine 非同步\n",
    "\n",
    "import asyncio\n",
    "async def foo(): # 定義協程函式\n",
    "    print(\"foo\")\n",
    "\n",
    "loop = asyncio.get_event_loop() # event loop\n",
    "task = loop.create_task(foo()) # 將協程函式包裝為task\n",
    "loop.run_until_complete(task) # 由event loop調度執行task\n"
   ]
  },
  {
   "cell_type": "code",
   "execution_count": 3,
   "metadata": {},
   "outputs": [
    {
     "name": "stdout",
     "output_type": "stream",
     "text": [
      "foo #1 start\n",
      "foo #2 start\n",
      "foo #1 end\n",
      "foo #2 end\n"
     ]
    },
    {
     "data": {
      "text/plain": [
       "({<Task finished name='Task-2' coro=<foo() done, defined at /var/folders/yj/9hjbp1811bg_s08ggldcd6zm0000gp/T/ipykernel_21190/3618518217.py:5> result=None>,\n",
       "  <Task finished name='Task-3' coro=<foo() done, defined at /var/folders/yj/9hjbp1811bg_s08ggldcd6zm0000gp/T/ipykernel_21190/3618518217.py:5> result=None>},\n",
       " set())"
      ]
     },
     "execution_count": 3,
     "metadata": {},
     "output_type": "execute_result"
    }
   ],
   "source": [
    "# 接著我們來看一下當有多個 coroutine 的情況下如何實現「非同步」這件事：\n",
    "\n",
    "import asyncio\n",
    "\n",
    "async def foo(i):\n",
    "    print(f\"foo #{i} start\" )\n",
    "    await asyncio.sleep(i) # coroutine 需要主動利用\n",
    "    print(f\"foo #{i} end\" )   # await 將執行權限交出去\n",
    "\n",
    "loop = asyncio.get_event_loop()\n",
    "task1 = loop.create_task(foo(1))\n",
    "task2 = loop.create_task(foo(2))\n",
    "loop.run_until_complete(asyncio.wait([task1,task2]))\n"
   ]
  }
 ],
 "metadata": {
  "kernelspec": {
   "display_name": "Python 3 (ipykernel)",
   "language": "python",
   "name": "python3"
  },
  "language_info": {
   "codemirror_mode": {
    "name": "ipython",
    "version": 3
   },
   "file_extension": ".py",
   "mimetype": "text/x-python",
   "name": "python",
   "nbconvert_exporter": "python",
   "pygments_lexer": "ipython3",
   "version": "3.9.5"
  }
 },
 "nbformat": 4,
 "nbformat_minor": 4
}
