{
 "cells": [
  {
   "cell_type": "markdown",
   "metadata": {},
   "source": [
    "# 範例\n",
    "***"
   ]
  },
  {
   "cell_type": "markdown",
   "metadata": {},
   "source": [
    "# [教學目標]\n",
    "\n",
    "* 認識 multithread 多執行緒的概念\n",
    "* 正確使用 thread 套件平行處理資料\n",
    "* 能夠正確管理 thread 間的執行順序\n"
   ]
  },
  {
   "cell_type": "markdown",
   "metadata": {},
   "source": [
    "## 建立平行化程式 Thread"
   ]
  },
  {
   "cell_type": "code",
   "execution_count": 1,
   "metadata": {},
   "outputs": [
    {
     "name": "stdout",
     "output_type": "stream",
     "text": [
      "child thread id:123145637527552\n",
      "\n",
      "main thread id:4673666496\n",
      "\n"
     ]
    }
   ],
   "source": [
    "import threading\n",
    "def job():\n",
    "    print(\"child thread id:{}\\n\".format(threading.get_ident()))\n",
    "\n",
    "t = threading.Thread(target = job) # 建立新子執行緒\n",
    "t.start() # 執行子執行緒\n",
    "t.join() # 等待thread執行完，繼續執行main thread\n",
    "\n",
    "print(\"main thread id:{}\\n\".format(threading.get_ident()))\n"
   ]
  },
  {
   "cell_type": "markdown",
   "metadata": {},
   "source": [
    "## Python 中的多線程"
   ]
  },
  {
   "cell_type": "code",
   "execution_count": 2,
   "metadata": {},
   "outputs": [
    {
     "name": "stdout",
     "output_type": "stream",
     "text": [
      "Thread-1 => 1\n",
      "\n",
      "Thread-2 => 11\n",
      "\n",
      "Thread-2 => 14\n",
      "Thread-1 => 3\n",
      "\n",
      "\n"
     ]
    }
   ],
   "source": [
    "import threading, time\n",
    "\n",
    "def job( threadName, data):\n",
    "    for d in data:\n",
    "        time.sleep(2)\n",
    "        print(f'{threadName} => {d}\\n')\n",
    "\n",
    "t1 = threading.Thread(target=job, args=(\"Thread-1\", range(1, 5, 2), )) \n",
    "t2 = threading.Thread(target=job, args= (\"Thread-2\", range(11, 15, 3), )) \n",
    "\n",
    "# 執行結果可以看出，原本的程式被拆成兩個函式平行地交互執行。\n",
    "t1.start()\n",
    "t2.start()\n"
   ]
  },
  {
   "cell_type": "code",
   "execution_count": 3,
   "metadata": {},
   "outputs": [
    {
     "name": "stdout",
     "output_type": "stream",
     "text": [
      "Thread-1 => 1\n",
      "\n",
      "Thread-1 => 3\n",
      "\n",
      "Thread-2 => 11\n",
      "\n",
      "Thread-2 => 14\n",
      "\n"
     ]
    }
   ],
   "source": [
    "import threading, time\n",
    "\n",
    "def job( threadName, data):\n",
    "    for d in data:\n",
    "        time.sleep(2)\n",
    "        print(f'{threadName} => {d}\\n')\n",
    "\n",
    "t1 = threading.Thread(target=job, args=(\"Thread-1\", range(1, 5, 2), )) \n",
    "t2 = threading.Thread(target=job, args= (\"Thread-2\", range(11, 15, 3), )) \n",
    "\n",
    "t1.start()\n",
    "t1.join() # 使用 join 可以確保 thread 執行完畢後才繼續往下。\n",
    "t2.start()"
   ]
  }
 ],
 "metadata": {
  "kernelspec": {
   "display_name": "Python 3 (ipykernel)",
   "language": "python",
   "name": "python3"
  },
  "language_info": {
   "codemirror_mode": {
    "name": "ipython",
    "version": 3
   },
   "file_extension": ".py",
   "mimetype": "text/x-python",
   "name": "python",
   "nbconvert_exporter": "python",
   "pygments_lexer": "ipython3",
   "version": "3.9.5"
  }
 },
 "nbformat": 4,
 "nbformat_minor": 4
}
