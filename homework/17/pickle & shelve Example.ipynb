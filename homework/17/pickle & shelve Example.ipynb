{
 "cells": [
  {
   "cell_type": "markdown",
   "metadata": {},
   "source": [
    "# 範例\n",
    "***"
   ]
  },
  {
   "cell_type": "markdown",
   "metadata": {},
   "source": [
    "# [教學目標]\n",
    "\n",
    "* 認識物件序列化、反序列化概念\n",
    "* 正確使用 pickle 序列化物件\n",
    "* 正確使用 shelve 序列化物件\n",
    "\n"
   ]
  },
  {
   "cell_type": "code",
   "execution_count": 1,
   "metadata": {},
   "outputs": [],
   "source": [
    "# Pickle 序列化\n",
    "\n",
    "import pickle\n",
    "class Foo:\n",
    "    def __init__(self, name):\n",
    "        self.name = name\n",
    "foo = Foo('foo')\n",
    "with open('test.pickle', 'wb') as f:\n",
    "    pickle.dump(foo, f)\n"
   ]
  },
  {
   "cell_type": "code",
   "execution_count": 3,
   "metadata": {},
   "outputs": [
    {
     "name": "stdout",
     "output_type": "stream",
     "text": [
      "foo\n"
     ]
    }
   ],
   "source": [
    "# Pickle反序列化\n",
    "\n",
    "import pickle\n",
    "with open('test.pickle', 'rb') as f:\n",
    "    foo = pickle.load(f)\n",
    "\n",
    "print(foo.name) # foo\n"
   ]
  },
  {
   "cell_type": "code",
   "execution_count": 6,
   "metadata": {},
   "outputs": [
    {
     "name": "stdout",
     "output_type": "stream",
     "text": [
      "foo\n"
     ]
    }
   ],
   "source": [
    "# Shelve 序列化與反序列化\n",
    "\n",
    "import shelve\n",
    "\n",
    "with shelve.open('foo',writeback=True) as fn:\n",
    "    fn[\"foo\"] = \"foo\"\n",
    "\n",
    "with shelve.open(\"foo\", \"r\", writeback=False) as fn:\n",
    "    print(fn[\"foo\"])\n"
   ]
  }
 ],
 "metadata": {
  "kernelspec": {
   "display_name": "Python 3 (ipykernel)",
   "language": "python",
   "name": "python3"
  },
  "language_info": {
   "codemirror_mode": {
    "name": "ipython",
    "version": 3
   },
   "file_extension": ".py",
   "mimetype": "text/x-python",
   "name": "python",
   "nbconvert_exporter": "python",
   "pygments_lexer": "ipython3",
   "version": "3.9.5"
  }
 },
 "nbformat": 4,
 "nbformat_minor": 4
}
