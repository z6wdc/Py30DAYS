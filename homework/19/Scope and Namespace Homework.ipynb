{
 "cells": [
  {
   "cell_type": "markdown",
   "metadata": {
    "colab_type": "text",
    "id": "P6xk2_jLsvFF"
   },
   "source": [
    "# [作業目標]\n",
    "\n",
    "\n",
    "1. [簡答題] 請問下列寫法為什麼會出錯？該如何修正？\n",
    "\n",
    "```\n",
    "# nonlocal\n",
    "\n",
    "def foo1():\n",
    "    var1 = 0\n",
    "    def foo2():\n",
    "        print(var1) \n",
    "        var1 = 1 # 修改局部變數值\n",
    "    foo2()\n",
    "\n",
    "foo1()\n",
    "\n",
    "```\n",
    "\n",
    "2. [簡答題] 請問下列程式碼分別會印出什麼結果？\n",
    "\n"
   ]
  },
  {
   "cell_type": "markdown",
   "metadata": {
    "colab_type": "text",
    "id": "uXGll28asvFS"
   },
   "source": [
    "# 作業 "
   ]
  },
  {
   "cell_type": "markdown",
   "metadata": {},
   "source": [
    "### 1. [簡答題] 請問下列寫法為什麼會出錯？該如何修正？\n",
    "\n",
    "```\n",
    "# nonlocal\n",
    "\n",
    "def foo1():\n",
    "    var1 = 0\n",
    "    def foo2():\n",
    "        print(var1) \n",
    "        var1 = 1 # 修改局部變數值\n",
    "    foo2()\n",
    "\n",
    "foo1()\n",
    "\n",
    "```"
   ]
  },
  {
   "cell_type": "code",
   "execution_count": 3,
   "metadata": {},
   "outputs": [
    {
     "name": "stdout",
     "output_type": "stream",
     "text": [
      "0\n"
     ]
    }
   ],
   "source": [
    "def foo1():\n",
    "    var1 = 0\n",
    "    def foo2():\n",
    "        nonlocal var1\n",
    "        print(var1) \n",
    "        var1 = 1 # 修改局部變數值\n",
    "    foo2()\n",
    "\n",
    "foo1()"
   ]
  },
  {
   "cell_type": "markdown",
   "metadata": {},
   "source": [
    "### 2. [簡答題] 請問下列程式碼分別會印出什麼結果？"
   ]
  },
  {
   "cell_type": "code",
   "execution_count": 6,
   "metadata": {},
   "outputs": [
    {
     "name": "stdout",
     "output_type": "stream",
     "text": [
      "A\n",
      "AAA\n",
      "B\n",
      "C\n",
      "B\n",
      "A\n"
     ]
    }
   ],
   "source": [
    "a = 'A'\n",
    "\n",
    "def f(b):\n",
    "    a = 'AAA'\n",
    "    c = 'C'\n",
    "    print(a)\n",
    "    print(b)\n",
    "    print(c)\n",
    "    return b\n",
    "\n",
    "print(a)\n",
    "print(f('B'))\n",
    "print(a)\n",
    "\n",
    "# A\n",
    "# AAA\n",
    "# B\n",
    "# C\n",
    "# B\n",
    "# A"
   ]
  },
  {
   "cell_type": "code",
   "execution_count": 7,
   "metadata": {},
   "outputs": [
    {
     "name": "stdout",
     "output_type": "stream",
     "text": [
      "A\n",
      "A\n",
      "B\n",
      "C\n",
      "B\n",
      "AAA\n"
     ]
    }
   ],
   "source": [
    "a = 'A'\n",
    "\n",
    "def f(b):\n",
    "    c = 'C'\n",
    "    global a\n",
    "    print(a)\n",
    "    a = 'AAA'\n",
    "    print(b)\n",
    "    print(c)\n",
    "    return b\n",
    "\n",
    "print(a)\n",
    "print(f('B'))\n",
    "print(a)\n",
    "\n",
    "# A\n",
    "# A\n",
    "# B\n",
    "# C\n",
    "# B\n",
    "# AAA"
   ]
  }
 ],
 "metadata": {
  "colab": {
   "name": "Day_023_HW.ipynb",
   "provenance": []
  },
  "kernelspec": {
   "display_name": "Python 3 (ipykernel)",
   "language": "python",
   "name": "python3"
  },
  "language_info": {
   "codemirror_mode": {
    "name": "ipython",
    "version": 3
   },
   "file_extension": ".py",
   "mimetype": "text/x-python",
   "name": "python",
   "nbconvert_exporter": "python",
   "pygments_lexer": "ipython3",
   "version": "3.9.5"
  }
 },
 "nbformat": 4,
 "nbformat_minor": 4
}
