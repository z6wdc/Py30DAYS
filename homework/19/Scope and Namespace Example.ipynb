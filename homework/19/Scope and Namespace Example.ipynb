{
 "cells": [
  {
   "cell_type": "markdown",
   "metadata": {},
   "source": [
    "# 範例\n",
    "***"
   ]
  },
  {
   "cell_type": "markdown",
   "metadata": {},
   "source": [
    "# [教學目標]\n",
    "\n",
    "* 認識 Scope and Namespace\n",
    "* 了解變數作用範圍\n",
    "* 正確存取不同命名空間變數值"
   ]
  },
  {
   "cell_type": "code",
   "execution_count": 3,
   "metadata": {},
   "outputs": [
    {
     "name": "stdout",
     "output_type": "stream",
     "text": [
      "global_var:  0\n",
      "local_var:  1\n",
      "inner_var:  2\n"
     ]
    }
   ],
   "source": [
    "# Scope 作用域\n",
    "\n",
    "global_var = 0  # 全局作用域\n",
    "def foo1():\n",
    "    local_var = 1  # 闭包函数外的函数中\n",
    "    def foo2():\n",
    "        inner_var = 2  # 局部作用域\n",
    "        print('global_var: ', global_var) #取得global變數\n",
    "        print('local_var: ', local_var)  #取得local_var\n",
    "        print('inner_var: ', abs(inner_var)) # abs為built-in function\n",
    "    foo2()\n",
    "        \n",
    "foo1()"
   ]
  },
  {
   "cell_type": "code",
   "execution_count": 2,
   "metadata": {},
   "outputs": [
    {
     "name": "stdout",
     "output_type": "stream",
     "text": [
      "0\n",
      "1\n"
     ]
    }
   ],
   "source": [
    "# global\n",
    "\n",
    "global_var = 0  # 全局作用域\n",
    "\n",
    "def foo1():\n",
    "    global global_var\n",
    "    print(global_var) # 0\n",
    "    global_var = 1 # 修改全局變數值\n",
    "\n",
    "foo1()\n",
    "print(global_var) # 1\n"
   ]
  },
  {
   "cell_type": "code",
   "execution_count": 1,
   "metadata": {},
   "outputs": [
    {
     "name": "stdout",
     "output_type": "stream",
     "text": [
      "0\n"
     ]
    }
   ],
   "source": [
    "# nonlocal\n",
    "\n",
    "def foo1():\n",
    "    var1 = 0\n",
    "    def foo2():\n",
    "        nonlocal var1 # 宣告存取局部變數\n",
    "        print(var1) \n",
    "        var1 = 1 # 修改局部變數值\n",
    "    foo2()\n",
    "\n",
    "foo1()\n"
   ]
  }
 ],
 "metadata": {
  "kernelspec": {
   "display_name": "Python 3 (ipykernel)",
   "language": "python",
   "name": "python3"
  },
  "language_info": {
   "codemirror_mode": {
    "name": "ipython",
    "version": 3
   },
   "file_extension": ".py",
   "mimetype": "text/x-python",
   "name": "python",
   "nbconvert_exporter": "python",
   "pygments_lexer": "ipython3",
   "version": "3.9.5"
  }
 },
 "nbformat": 4,
 "nbformat_minor": 4
}
