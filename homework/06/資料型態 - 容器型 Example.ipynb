{
 "cells": [
  {
   "cell_type": "markdown",
   "metadata": {},
   "source": [
    "# 範例\n",
    "***"
   ]
  },
  {
   "cell_type": "markdown",
   "metadata": {},
   "source": [
    "# [教學目標]\n",
    "\n",
    "* 能夠定義容器型的資料到變數\n",
    "* 了解不同容器型態的特性與使用方法\n",
    "* 正確的使用列表和字典的操作與常見函式\n",
    "\n",
    "\n",
    "\n",
    "\n"
   ]
  },
  {
   "cell_type": "code",
   "execution_count": 1,
   "metadata": {},
   "outputs": [
    {
     "name": "stdout",
     "output_type": "stream",
     "text": [
      "[1, 2, 3] 3 <class 'list'>\n",
      "(1, 2, 3) 3 <class 'tuple'>\n",
      "{'1': 1, '2': 2, '3': 3} 3 <class 'dict'>\n",
      "{1, 2, 3} 3 <class 'set'>\n"
     ]
    }
   ],
   "source": [
    "# 定義容器型態變數\n",
    "\n",
    "L = [1,2,3]\n",
    "T = (1,2,3)\n",
    "D = {'1': 1, '2': 2, '3': 3}\n",
    "S = {1,2,3,3}\n",
    "\n",
    "print(L, len(L), type(L))\n",
    "print(T, len(T), type(T))\n",
    "print(D, len(D), type(D))\n",
    "print(S, len(S), type(S))"
   ]
  },
  {
   "cell_type": "code",
   "execution_count": 2,
   "metadata": {},
   "outputs": [
    {
     "name": "stdout",
     "output_type": "stream",
     "text": [
      "[1, 2, 3, 4, 3, 4, 5, 6]\n",
      "[1, 2, 3, 4, 1, 2, 3, 4]\n",
      "(1, 2, 3, 4, 3, 4, 5, 6)\n",
      "(1, 2, 3, 4, 1, 2, 3, 4)\n"
     ]
    }
   ],
   "source": [
    "# List 和 Tuple 的運算\n",
    "\n",
    "L = [1, 2, 3, 4]\n",
    "G = [3, 4, 5, 6]\n",
    "\n",
    "print(L + G)\n",
    "print(L * 2)\n",
    "\n",
    "L = (1, 2, 3, 4)\n",
    "G = (3, 4, 5, 6)\n",
    "\n",
    "print(L + G)\n",
    "print(L * 2)\n"
   ]
  },
  {
   "cell_type": "code",
   "execution_count": 4,
   "metadata": {},
   "outputs": [],
   "source": [
    "# 列表的索引與切片\n",
    "\n",
    "s = ['H', 'e', 'l', 'l', 'o',' ','W','o','r','l','d']\n",
    " \n",
    "s[0], s[1]\n",
    "s[-1], s[len(s)-1]\n",
    "s[0] = 'H'"
   ]
  },
  {
   "cell_type": "code",
   "execution_count": 6,
   "metadata": {},
   "outputs": [
    {
     "name": "stdout",
     "output_type": "stream",
     "text": [
      "['h', 'e', 'l', 'l', 'o']\n"
     ]
    },
    {
     "data": {
      "text/plain": [
       "['h', 'l', 'o']"
      ]
     },
     "execution_count": 6,
     "metadata": {},
     "output_type": "execute_result"
    }
   ],
   "source": [
    "s = ['h', 'e', 'l', 'l', 'o']\n",
    " \n",
    "print(s[0:5])\n",
    "s[0:5:2]\n"
   ]
  },
  {
   "cell_type": "code",
   "execution_count": 6,
   "metadata": {},
   "outputs": [],
   "source": [
    "# 列表的常用方法\n",
    "\n",
    "L = list() # [ ] \n",
    "\n",
    "L.append(1) # [1]\n",
    "L.extend([2, 3]) # [1, 2, 3]\n",
    "L.insert(0, 999) # [999, 1, 2, 3]\n",
    "\n"
   ]
  },
  {
   "cell_type": "code",
   "execution_count": 7,
   "metadata": {},
   "outputs": [],
   "source": [
    "L = [999, 1, 2, 3]\n",
    "\n",
    "x = L.pop() # 3, [999, 1, 2]\n",
    "L.remove(999) # [1, 2] \n"
   ]
  },
  {
   "cell_type": "code",
   "execution_count": 12,
   "metadata": {},
   "outputs": [],
   "source": [
    "# 字典的 CRUD\n",
    "\n",
    "d = dict() # {}\n",
    "d = {'Mark': 1, 'test': 0}\n",
    "# {'Mark': 1, 'test': 0}\n",
    "\n",
    "d['Mark'] # 1\n",
    "d['Mary'] = 2 # {'Mark': 1, 'test': 0, 'Mary': 2}\n",
    "del d['test'] # {'Mark': 1, 'Mary': 2}\n"
   ]
  },
  {
   "cell_type": "code",
   "execution_count": 13,
   "metadata": {},
   "outputs": [
    {
     "data": {
      "text/plain": [
       "dict_values([1, 2])"
      ]
     },
     "execution_count": 13,
     "metadata": {},
     "output_type": "execute_result"
    }
   ],
   "source": [
    "# 字典的常用方法\n",
    "\n",
    "d = {'Mark': 1, 'Mary': 2}\n",
    "\n",
    "d.items() \n",
    "# dict_items([('Mark', 1), ('Mary', 2) ])\n",
    "\n",
    "d.keys() \n",
    "# dict_keys(['Mark', 'Mary'])\n",
    "\n",
    "d.values() \n",
    "# dict_values([1, 2])\n"
   ]
  },
  {
   "cell_type": "code",
   "execution_count": 14,
   "metadata": {},
   "outputs": [
    {
     "data": {
      "text/plain": [
       "(3, {'Mark': 1, 'Mary': 2, 'Tom': 3})"
      ]
     },
     "execution_count": 14,
     "metadata": {},
     "output_type": "execute_result"
    }
   ],
   "source": [
    "d = {'Mark': 1, 'Mary': 2}\n",
    "\n",
    "d.get('Tom', ''), d \n",
    "# '', {'Mark': 1, 'test': 0}\n",
    "\n",
    "d.setdefault('Tom', 3), d \n",
    "# 3, {'Tom': 3, 'Mark': 1, 'test': 0}\n"
   ]
  },
  {
   "cell_type": "code",
   "execution_count": null,
   "metadata": {},
   "outputs": [],
   "source": []
  }
 ],
 "metadata": {
  "kernelspec": {
   "display_name": "Python 3 (ipykernel)",
   "language": "python",
   "name": "python3"
  },
  "language_info": {
   "codemirror_mode": {
    "name": "ipython",
    "version": 3
   },
   "file_extension": ".py",
   "mimetype": "text/x-python",
   "name": "python",
   "nbconvert_exporter": "python",
   "pygments_lexer": "ipython3",
   "version": "3.9.5"
  }
 },
 "nbformat": 4,
 "nbformat_minor": 4
}
