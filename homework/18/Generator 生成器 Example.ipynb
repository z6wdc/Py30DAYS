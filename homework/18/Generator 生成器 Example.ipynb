{
 "cells": [
  {
   "cell_type": "markdown",
   "metadata": {},
   "source": [
    "# 範例\n",
    "***"
   ]
  },
  {
   "cell_type": "markdown",
   "metadata": {},
   "source": [
    "# [教學目標]\n",
    "\n",
    "* 認識生成器運作概念與特性\n",
    "* 正確建立生成器\n",
    "* 了解生成器與迭代與迴圈用法\n"
   ]
  },
  {
   "cell_type": "code",
   "execution_count": 1,
   "metadata": {},
   "outputs": [
    {
     "name": "stdout",
     "output_type": "stream",
     "text": [
      "<generator object foo at 0x107713200>\n"
     ]
    }
   ],
   "source": [
    "# 在 Python 中若函式回傳 yield，則函式會自動編譯為 generator 形式型態：\n",
    "\n",
    "def foo():\n",
    "    yield 1\n",
    "\n",
    "print(foo()) # <generator object foo at >\n"
   ]
  },
  {
   "cell_type": "code",
   "execution_count": 7,
   "metadata": {},
   "outputs": [
    {
     "name": "stdout",
     "output_type": "stream",
     "text": [
      "0\n",
      "1\n",
      "2\n",
      "3\n",
      "4\n"
     ]
    }
   ],
   "source": [
    "# 生成器函式\n",
    "\n",
    "def foo():\n",
    "    i = 0\n",
    "    while i < 5:\n",
    "        yield i # 呼叫__next__回傳i，下次呼叫__next__繼續執行回傳下一個 i\n",
    "        i += 1\n",
    "\n",
    "f = foo()\n",
    "for i in f:\n",
    "    print(i) # 0, 1, 2, 3, 4\n",
    "\n",
    "for i in f:\n",
    "    print(i) # 0, 1, 2, 3, 4"
   ]
  },
  {
   "cell_type": "code",
   "execution_count": 10,
   "metadata": {},
   "outputs": [
    {
     "name": "stdout",
     "output_type": "stream",
     "text": [
      "1\n",
      "0\n"
     ]
    },
    {
     "data": {
      "text/plain": [
       "1"
      ]
     },
     "execution_count": 10,
     "metadata": {},
     "output_type": "execute_result"
    }
   ],
   "source": [
    "# yield 可以透過send從函式外部傳值到內部，像是下面程式碼中 x 的值會指定為 0：\n",
    "\n",
    "def foo():\n",
    "    while True:\n",
    "        x = yield 1\n",
    "        print(x)    \n",
    "\n",
    "f = foo()\n",
    "print(next(f)) # 1\n",
    "f.send(0) # 0\n"
   ]
  }
 ],
 "metadata": {
  "kernelspec": {
   "display_name": "Python 3 (ipykernel)",
   "language": "python",
   "name": "python3"
  },
  "language_info": {
   "codemirror_mode": {
    "name": "ipython",
    "version": 3
   },
   "file_extension": ".py",
   "mimetype": "text/x-python",
   "name": "python",
   "nbconvert_exporter": "python",
   "pygments_lexer": "ipython3",
   "version": "3.9.5"
  }
 },
 "nbformat": 4,
 "nbformat_minor": 4
}
