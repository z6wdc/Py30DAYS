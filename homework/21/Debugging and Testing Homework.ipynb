{
 "cells": [
  {
   "cell_type": "markdown",
   "metadata": {
    "colab_type": "text",
    "id": "P6xk2_jLsvFF"
   },
   "source": [
    "# [作業目標]\n",
    "\n",
    "\n",
    "1. [操作題] 請在電腦中安裝使用「Python 中的除錯模組 pdb」，並且截圖上傳。\n",
    "\n",
    "\n",
    "2. 對「找出 1 ~ 100 質數的函式」進行單元測試，對下列兩個程式進行測試並且側著將錯誤的部分改成正確可以通過測試。\n",
    "\n"
   ]
  },
  {
   "cell_type": "markdown",
   "metadata": {
    "colab_type": "text",
    "id": "uXGll28asvFS"
   },
   "source": [
    "# 作業 "
   ]
  },
  {
   "cell_type": "markdown",
   "metadata": {},
   "source": [
    "### 1. [操作題] 請在電腦中安裝使用「Python 中的除錯模組 pdb」，並且截圖上傳。\n"
   ]
  },
  {
   "cell_type": "code",
   "execution_count": null,
   "metadata": {},
   "outputs": [],
   "source": []
  },
  {
   "cell_type": "markdown",
   "metadata": {},
   "source": [
    "### 2. 對「找出 1 ~ 100 質數的函式」進行單元測試，對下列兩個程式進行測試並且側著將錯誤的部分改成正確可以通過測試。"
   ]
  },
  {
   "cell_type": "code",
   "execution_count": 16,
   "metadata": {},
   "outputs": [],
   "source": [
    "def f1():\n",
    "    L = []\n",
    "    for num in range(1, 100 + 1):\n",
    "        if num > 1:\n",
    "            for i in range(2, num):\n",
    "                if (num % i) == 0:\n",
    "                    break\n",
    "            else:\n",
    "                L.append(num)\n",
    "    return L\n",
    "            \n",
    "def f2():\n",
    "    return [x for x in range(1, 101) if x not in [j for i in range(2, 11) for j in range(2*i, 101, i)]]\n"
   ]
  },
  {
   "cell_type": "code",
   "execution_count": 1,
   "metadata": {},
   "outputs": [],
   "source": [
    "import unittest"
   ]
  }
 ],
 "metadata": {
  "colab": {
   "name": "Day_023_HW.ipynb",
   "provenance": []
  },
  "kernelspec": {
   "display_name": "Python 3 (ipykernel)",
   "language": "python",
   "name": "python3"
  },
  "language_info": {
   "codemirror_mode": {
    "name": "ipython",
    "version": 3
   },
   "file_extension": ".py",
   "mimetype": "text/x-python",
   "name": "python",
   "nbconvert_exporter": "python",
   "pygments_lexer": "ipython3",
   "version": "3.9.5"
  }
 },
 "nbformat": 4,
 "nbformat_minor": 4
}
