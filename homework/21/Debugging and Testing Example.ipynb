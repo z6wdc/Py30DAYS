{
 "cells": [
  {
   "cell_type": "markdown",
   "metadata": {},
   "source": [
    "# 範例\n",
    "***"
   ]
  },
  {
   "cell_type": "markdown",
   "metadata": {},
   "source": [
    "# [教學目標]\n",
    "\n",
    "* 知道 Debugging 與 Testing\n",
    "* 熟用 Python 中的 Debugging 技巧\n",
    "* 了解 Python 如何做單元測試\n",
    "\n"
   ]
  },
  {
   "cell_type": "code",
   "execution_count": 1,
   "metadata": {},
   "outputs": [
    {
     "name": "stderr",
     "output_type": "stream",
     "text": [
      "test_foo (__main__.TestFoo) ... FAIL\n",
      "\n",
      "======================================================================\n",
      "FAIL: test_foo (__main__.TestFoo)\n",
      "----------------------------------------------------------------------\n",
      "Traceback (most recent call last):\n",
      "  File \"/var/folders/yj/9hjbp1811bg_s08ggldcd6zm0000gp/T/ipykernel_46176/4149289553.py\", line 6, in test_foo\n",
      "    self.assertEqual(\"B\", 'A') #判別兩個值是否相同\n",
      "AssertionError: 'B' != 'A'\n",
      "- B\n",
      "+ A\n",
      "\n",
      "\n",
      "----------------------------------------------------------------------\n",
      "Ran 1 test in 0.002s\n",
      "\n",
      "FAILED (failures=1)\n"
     ]
    }
   ],
   "source": [
    "# 利用程式自動化的單元測試\n",
    "\n",
    "import unittest\n",
    "class TestFoo(unittest.TestCase): # extend Testcase\n",
    "    def test_foo(self):\n",
    "        self.assertEqual(\"B\", 'A') #判別兩個值是否相同\n",
    "\n",
    "if __name__ == '__main__':\n",
    "    unittest.main(argv=[''], verbosity=2, exit=False)\n"
   ]
  },
  {
   "cell_type": "code",
   "execution_count": 2,
   "metadata": {},
   "outputs": [
    {
     "name": "stderr",
     "output_type": "stream",
     "text": [
      "test_foo (__main__.TestFoo) ... ok\n",
      "\n",
      "----------------------------------------------------------------------\n",
      "Ran 1 test in 0.001s\n",
      "\n",
      "OK\n"
     ]
    }
   ],
   "source": [
    "# 利用程式自動化的單元測試\n",
    "\n",
    "import unittest\n",
    "class TestFoo(unittest.TestCase): # extend Testcase\n",
    "    def test_foo(self):\n",
    "        self.assertEqual(\"A\", 'A') #判別兩個值是否相同\n",
    "\n",
    "if __name__ == '__main__':\n",
    "    unittest.main(argv=[''], verbosity=2, exit=False)\n"
   ]
  },
  {
   "cell_type": "code",
   "execution_count": 3,
   "metadata": {},
   "outputs": [
    {
     "name": "stderr",
     "output_type": "stream",
     "text": [
      "test_foo (__main__.TestFoo) ... ok\n",
      "\n",
      "----------------------------------------------------------------------\n",
      "Ran 1 test in 0.001s\n",
      "\n",
      "OK\n"
     ]
    }
   ],
   "source": [
    "# 對「判斷一個數是否為偶數的函式」單元測試\n",
    "\n",
    "def isEven(d):\n",
    "    return d % 2 == 0\n",
    "\n",
    "\n",
    "import unittest\n",
    "\n",
    "class TestFoo(unittest.TestCase):\n",
    "    def test_foo(self):\n",
    "        self.assertEqual(isEven(2), True) # 測試條件一\n",
    "        self.assertEqual(isEven(99), False) # 測試條件二\n",
    "\n",
    "if __name__ == '__main__':\n",
    "    unittest.main(argv=[''], verbosity=2, exit=False)\n"
   ]
  },
  {
   "cell_type": "code",
   "execution_count": 4,
   "metadata": {},
   "outputs": [
    {
     "name": "stderr",
     "output_type": "stream",
     "text": [
      "test_foo (__main__.TestFoo) ... FAIL\n",
      "\n",
      "======================================================================\n",
      "FAIL: test_foo (__main__.TestFoo)\n",
      "----------------------------------------------------------------------\n",
      "Traceback (most recent call last):\n",
      "  File \"/var/folders/yj/9hjbp1811bg_s08ggldcd6zm0000gp/T/ipykernel_46176/2098424321.py\", line 12, in test_foo\n",
      "    self.assertEqual(isEven(99), False) # 測試條件二\n",
      "AssertionError: True != False\n",
      "\n",
      "----------------------------------------------------------------------\n",
      "Ran 1 test in 0.001s\n",
      "\n",
      "FAILED (failures=1)\n"
     ]
    }
   ],
   "source": [
    "# 如果 function 寫錯的情況，測試就不會過\n",
    "\n",
    "def isEven(d):\n",
    "    return True\n",
    "\n",
    "\n",
    "import unittest\n",
    "\n",
    "class TestFoo(unittest.TestCase):\n",
    "    def test_foo(self):\n",
    "        self.assertEqual(isEven(2), True) # 測試條件一\n",
    "        self.assertEqual(isEven(99), False) # 測試條件二\n",
    "\n",
    "if __name__ == '__main__':\n",
    "    unittest.main(argv=[''], verbosity=2, exit=False)\n"
   ]
  }
 ],
 "metadata": {
  "kernelspec": {
   "display_name": "Python 3 (ipykernel)",
   "language": "python",
   "name": "python3"
  },
  "language_info": {
   "codemirror_mode": {
    "name": "ipython",
    "version": 3
   },
   "file_extension": ".py",
   "mimetype": "text/x-python",
   "name": "python",
   "nbconvert_exporter": "python",
   "pygments_lexer": "ipython3",
   "version": "3.9.5"
  }
 },
 "nbformat": 4,
 "nbformat_minor": 4
}
